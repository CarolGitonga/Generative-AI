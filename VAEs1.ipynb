{
  "nbformat": 4,
  "nbformat_minor": 0,
  "metadata": {
    "colab": {
      "provenance": [],
      "authorship_tag": "ABX9TyNhjSy23EEPfwbAVwzAJLA1",
      "include_colab_link": true
    },
    "kernelspec": {
      "name": "python3",
      "display_name": "Python 3"
    },
    "language_info": {
      "name": "python"
    }
  },
  "cells": [
    {
      "cell_type": "markdown",
      "metadata": {
        "id": "view-in-github",
        "colab_type": "text"
      },
      "source": [
        "<a href=\"https://colab.research.google.com/github/CarolGitonga/Generative-AI/blob/main/VAEs1.ipynb\" target=\"_parent\"><img src=\"https://colab.research.google.com/assets/colab-badge.svg\" alt=\"Open In Colab\"/></a>"
      ]
    },
    {
      "cell_type": "markdown",
      "source": [
        "VAE Class defines the encoder and decoder networks, as well as the reparameterization trick. encode() encodes the input into mean and log-variance. reparameterize() samples from the latent space using the mean and log-variance. decode() reconstructs the input from the sampled latent variable. forward() defines the forward pass, encoding the input, sampling from the latent space, and decoding the sample. KL Divergence (KLD): Measures how close the learned latent variable distribution is to the prior distribution."
      ],
      "metadata": {
        "id": "j4kz1tDgElFC"
      }
    },
    {
      "cell_type": "code",
      "execution_count": 2,
      "metadata": {
        "colab": {
          "base_uri": "https://localhost:8080/"
        },
        "id": "ncPzg-gGDYLK",
        "outputId": "286e4de8-4035-4590-dc3e-a3aa3bcc7b8f"
      },
      "outputs": [
        {
          "output_type": "stream",
          "name": "stdout",
          "text": [
            "Epoch [1/10], Loss: 50.1847\n",
            "Epoch [2/10], Loss: 11.4711\n",
            "Epoch [3/10], Loss: 7.1784\n",
            "Epoch [4/10], Loss: 8.3488\n",
            "Epoch [5/10], Loss: 8.1335\n",
            "Epoch [6/10], Loss: 7.0724\n",
            "Epoch [7/10], Loss: 5.9471\n",
            "Epoch [8/10], Loss: 4.9433\n",
            "Epoch [9/10], Loss: 4.1102\n",
            "Epoch [10/10], Loss: 3.4768\n"
          ]
        }
      ],
      "source": [
        "import torch\n",
        "import torch.nn as nn\n",
        "import torch.optim as optim\n",
        "from torch.nn.functional import binary_cross_entropy\n",
        "\n",
        "class VAE(nn.Module):\n",
        "    def __init__(self, input_dim, hidden_dim, latent_dim):\n",
        "        super(VAE, self).__init__()\n",
        "        self.encoder = nn.Sequential(\n",
        "            nn.Linear(input_dim, hidden_dim),\n",
        "            nn.ReLU(),\n",
        "            nn.Linear(hidden_dim, latent_dim * 2)  # mean and log-variance\n",
        "        )\n",
        "        self.decoder = nn.Sequential(\n",
        "            nn.Linear(latent_dim, hidden_dim),\n",
        "            nn.ReLU(),\n",
        "            nn.Linear(hidden_dim, input_dim),\n",
        "            nn.Sigmoid()\n",
        "        )\n",
        "\n",
        "    def encode(self, x):\n",
        "        h = self.encoder(x)\n",
        "        mu, logvar = torch.chunk(h, 2, dim=-1)\n",
        "        return mu, logvar\n",
        "\n",
        "    def reparameterize(self, mu, logvar):\n",
        "        std = torch.exp(0.5 * logvar)\n",
        "        eps = torch.randn_like(std)\n",
        "        return mu + eps * std\n",
        "\n",
        "    def decode(self, z):\n",
        "        return self.decoder(z)\n",
        "\n",
        "    def forward(self, x):\n",
        "        mu, logvar = self.encode(x)\n",
        "        z = self.reparameterize(mu, logvar)\n",
        "        return self.decode(z), mu, logvar\n",
        "\n",
        "def loss_function(recon_x, x, mu, logvar):\n",
        "   # BCE = binary_cross_entropy(recon_x, x, reduction='sum')\n",
        "    KLD = -0.5 * torch.sum(1 + logvar - mu.pow(2) - logvar.exp())\n",
        "    return KLD\n",
        "\n",
        "# Hyperparameters\n",
        "input_dim = 784  # e.g., 28x28 images flattened\n",
        "hidden_dim = 400\n",
        "latent_dim = 20\n",
        "learning_rate = 1e-3\n",
        "\n",
        "# Model, optimizer, and loss function\n",
        "model = VAE(input_dim, hidden_dim, latent_dim)\n",
        "optimizer = optim.Adam(model.parameters(), lr=learning_rate)\n",
        "\n",
        "# Dummy data for demonstration\n",
        "inputs = torch.randn(64, input_dim)  # batch size of 64\n",
        "\n",
        "# Training loop\n",
        "model.train()\n",
        "for epoch in range(10):  # number of epochs\n",
        "    optimizer.zero_grad()\n",
        "    recon_batch, mu, logvar = model(inputs)\n",
        "    loss = loss_function(recon_batch, inputs, mu, logvar)\n",
        "    loss.backward()\n",
        "    optimizer.step()\n",
        "\n",
        "    print(f'Epoch [{epoch+1}/10], Loss: {loss.item():.4f}')\n"
      ]
    }
  ]
}