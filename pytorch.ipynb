{
  "nbformat": 4,
  "nbformat_minor": 0,
  "metadata": {
    "colab": {
      "provenance": [],
      "authorship_tag": "ABX9TyOnazrsgJqjdTQaJ8l6FvTo",
      "include_colab_link": true
    },
    "kernelspec": {
      "name": "python3",
      "display_name": "Python 3"
    },
    "language_info": {
      "name": "python"
    }
  },
  "cells": [
    {
      "cell_type": "markdown",
      "metadata": {
        "id": "view-in-github",
        "colab_type": "text"
      },
      "source": [
        "<a href=\"https://colab.research.google.com/github/CarolGitonga/Generative-AI/blob/main/pytorch.ipynb\" target=\"_parent\"><img src=\"https://colab.research.google.com/assets/colab-badge.svg\" alt=\"Open In Colab\"/></a>"
      ]
    },
    {
      "cell_type": "markdown",
      "source": [
        "PyTorch is an open source machine learning framework that allows you to write your own neural networks and optimize them efficiently."
      ],
      "metadata": {
        "id": "fRwSq2MejQf4"
      }
    },
    {
      "cell_type": "code",
      "source": [
        "## Standard libraries\n",
        "import os\n",
        "import math\n",
        "import numpy as np\n",
        "import time\n",
        "\n",
        "import torch.nn as nn\n",
        "import torch.optim as optim\n",
        "\n",
        "## Imports for plotting\n",
        "import matplotlib.pyplot as plt\n",
        "%matplotlib inline\n",
        "from IPython.display import set_matplotlib_formats\n",
        "set_matplotlib_formats('svg', 'pdf') # For export\n",
        "from matplotlib.colors import to_rgba\n",
        "import seaborn as sns\n",
        "sns.set()\n",
        "\n",
        "## Progress bar\n",
        "from tqdm.notebook import tqdm"
      ],
      "metadata": {
        "colab": {
          "base_uri": "https://localhost:8080/"
        },
        "id": "SUFANy-gY68-",
        "outputId": "216ba11b-1bb5-482c-ba37-8e3aebd138ae"
      },
      "execution_count": 1,
      "outputs": [
        {
          "output_type": "stream",
          "name": "stderr",
          "text": [
            "<ipython-input-1-ef1aac816119>:14: DeprecationWarning: `set_matplotlib_formats` is deprecated since IPython 7.23, directly use `matplotlib_inline.backend_inline.set_matplotlib_formats()`\n",
            "  set_matplotlib_formats('svg', 'pdf') # For export\n"
          ]
        }
      ]
    },
    {
      "cell_type": "code",
      "source": [
        "import torch\n",
        "print(\"Using torch\", torch.__version__)"
      ],
      "metadata": {
        "colab": {
          "base_uri": "https://localhost:8080/"
        },
        "id": "X0FtbSArZnNN",
        "outputId": "6eaeab21-0e89-486d-f7dc-41eddf22749c"
      },
      "execution_count": null,
      "outputs": [
        {
          "output_type": "stream",
          "name": "stdout",
          "text": [
            "Using torch 2.3.0+cu121\n"
          ]
        }
      ]
    },
    {
      "cell_type": "markdown",
      "source": [
        "PyTorch provides functions that are stochastic like generating random numbers. However, a very good practice is to setup your code to be reproducible with the exact same random numbers. This is why a seed is set below."
      ],
      "metadata": {
        "id": "Yw8l17WrkVlY"
      }
    },
    {
      "cell_type": "code",
      "execution_count": null,
      "metadata": {
        "colab": {
          "base_uri": "https://localhost:8080/"
        },
        "id": "rBaRZLZRYpMS",
        "outputId": "3d9cb018-f8ac-4305-b34b-2311502bd633"
      },
      "outputs": [
        {
          "output_type": "execute_result",
          "data": {
            "text/plain": [
              "<torch._C.Generator at 0x78965e4f6cb0>"
            ]
          },
          "metadata": {},
          "execution_count": 4
        }
      ],
      "source": [
        "torch.manual_seed(42) # Setting the seed"
      ]
    },
    {
      "cell_type": "markdown",
      "source": [
        "When working with neural networks, we will use tensors of various shapes and number of dimensions.Tensors are a generalization of scalars, vectors, and matrices to higher dimensions.They are multi-dimensional arrays that are used extensively in machine learning and deep learning for various computations."
      ],
      "metadata": {
        "id": "cNcA-b88kyNS"
      }
    },
    {
      "cell_type": "code",
      "source": [
        "x = ...\n",
        "print(x)"
      ],
      "metadata": {
        "colab": {
          "base_uri": "https://localhost:8080/"
        },
        "id": "LTotiE1CaC7h",
        "outputId": "16ce26e7-ad2d-4a08-8939-fb7a4786b643"
      },
      "execution_count": null,
      "outputs": [
        {
          "output_type": "stream",
          "name": "stdout",
          "text": [
            "Ellipsis\n"
          ]
        }
      ]
    },
    {
      "cell_type": "code",
      "source": [
        "nested_list = [[1, 2, 3], [4, 5, 6], [7, 8, 9]]\n",
        "\n",
        "# Create a tensor from the nested list\n",
        "tensor = torch.tensor(nested_list)\n",
        "print(tensor)"
      ],
      "metadata": {
        "colab": {
          "base_uri": "https://localhost:8080/"
        },
        "id": "3z-nKC17cLgw",
        "outputId": "7951abb3-923a-499b-c179-a0ae83616892"
      },
      "execution_count": null,
      "outputs": [
        {
          "output_type": "stream",
          "name": "stdout",
          "text": [
            "tensor([[1, 2, 3],\n",
            "        [4, 5, 6],\n",
            "        [7, 8, 9]])\n"
          ]
        }
      ]
    },
    {
      "cell_type": "code",
      "source": [
        "# Create a tensor with random values between 0 and 1 with shape [2, 3, 4]\n",
        "tensor = torch.rand(2, 3, 4)\n",
        "print(tensor)"
      ],
      "metadata": {
        "colab": {
          "base_uri": "https://localhost:8080/"
        },
        "id": "z70cUT71ckNC",
        "outputId": "e5be882c-914e-4b59-eb6f-d9ee14f71902"
      },
      "execution_count": null,
      "outputs": [
        {
          "output_type": "stream",
          "name": "stdout",
          "text": [
            "tensor([[[0.8823, 0.9150, 0.3829, 0.9593],\n",
            "         [0.3904, 0.6009, 0.2566, 0.7936],\n",
            "         [0.9408, 0.1332, 0.9346, 0.5936]],\n",
            "\n",
            "        [[0.8694, 0.5677, 0.7411, 0.4294],\n",
            "         [0.8854, 0.5739, 0.2666, 0.6274],\n",
            "         [0.2696, 0.4414, 0.2969, 0.8317]]])\n"
          ]
        }
      ]
    },
    {
      "cell_type": "code",
      "source": [
        "# Create a tensor with random values between 0 and 1 with shape [2, 3, 4]\n",
        "tensor = torch.rand(2, 3, 4)\n",
        "\n",
        "# Get the shape of the tensor using .shape\n",
        "shape = tensor.shape\n",
        "print(\"Shape using .shape:\", shape)"
      ],
      "metadata": {
        "colab": {
          "base_uri": "https://localhost:8080/"
        },
        "id": "AjRRnzpZcz0n",
        "outputId": "8c7429ee-5e2c-4708-8e20-87fd1abbd4db"
      },
      "execution_count": null,
      "outputs": [
        {
          "output_type": "stream",
          "name": "stdout",
          "text": [
            "Shape using .shape: torch.Size([2, 3, 4])\n"
          ]
        }
      ]
    },
    {
      "cell_type": "markdown",
      "source": [
        "To transform a numpy array into a tensor"
      ],
      "metadata": {
        "id": "vkIVYkJ6eZg4"
      }
    },
    {
      "cell_type": "code",
      "source": [
        "# Create a NumPy array\n",
        "np_array = np.array([[1, 2, 3], [4, 5, 6], [7, 8, 9]])\n",
        "print(\"NumPy Array:\")\n",
        "print(np_array)\n",
        "\n",
        "# Convert the NumPy array to a PyTorch tensor\n",
        "tensor = torch.from_numpy(np_array)\n",
        "print(\"PyTorch Tensor:\")\n",
        "print(tensor)"
      ],
      "metadata": {
        "colab": {
          "base_uri": "https://localhost:8080/"
        },
        "id": "1gFae_kydi-s",
        "outputId": "15931b9f-c499-492d-d6e4-c9fa08bb2396"
      },
      "execution_count": null,
      "outputs": [
        {
          "output_type": "stream",
          "name": "stdout",
          "text": [
            "NumPy Array:\n",
            "[[1 2 3]\n",
            " [4 5 6]\n",
            " [7 8 9]]\n",
            "PyTorch Tensor:\n",
            "tensor([[1, 2, 3],\n",
            "        [4, 5, 6],\n",
            "        [7, 8, 9]])\n"
          ]
        }
      ]
    },
    {
      "cell_type": "markdown",
      "source": [
        "To transform a PyTorch tensor back to a numpy array"
      ],
      "metadata": {
        "id": "J_NFEK6mfDe9"
      }
    },
    {
      "cell_type": "code",
      "source": [
        "# Create a PyTorch tensor\n",
        "tensor = torch.tensor([[1, 2, 3], [4, 5, 6], [7, 8, 9]])\n",
        "print(\"PyTorch Tensor:\")\n",
        "print(tensor)\n",
        "\n",
        "# Convert the PyTorch tensor to a NumPy array\n",
        "np_array = tensor.numpy()\n",
        "print(\"NumPy Array:\")\n",
        "print(np_array)"
      ],
      "metadata": {
        "colab": {
          "base_uri": "https://localhost:8080/"
        },
        "id": "J5hN3kmYe3gh",
        "outputId": "75f15c22-dae0-4718-893f-4ac4ad99fdcb"
      },
      "execution_count": null,
      "outputs": [
        {
          "output_type": "stream",
          "name": "stdout",
          "text": [
            "PyTorch Tensor:\n",
            "tensor([[1, 2, 3],\n",
            "        [4, 5, 6],\n",
            "        [7, 8, 9]])\n",
            "NumPy Array:\n",
            "[[1 2 3]\n",
            " [4 5 6]\n",
            " [7 8 9]]\n"
          ]
        }
      ]
    },
    {
      "cell_type": "markdown",
      "source": [
        "Operation of adding two tensors"
      ],
      "metadata": {
        "id": "r8HFm5XTnHTC"
      }
    },
    {
      "cell_type": "code",
      "source": [
        "# Create two tensors\n",
        "tensor1 = torch.tensor([[1, 2, 3], [4, 5, 6], [7, 8, 9]])\n",
        "tensor2 = torch.tensor([[9, 8, 7], [6, 5, 4], [3, 2, 1]])\n",
        "\n",
        "# Add the tensors using the + operator\n",
        "result_add_operator = tensor1 + tensor2\n",
        "print(\"Result of tensor1 + tensor2:\")\n",
        "print(result_add_operator)\n",
        "\n",
        "# Add the tensors using torch.add()\n",
        "result_add_function = torch.add(tensor1, tensor2)\n",
        "print(\"Result of torch.add(tensor1, tensor2):\")\n",
        "print(result_add_function)"
      ],
      "metadata": {
        "colab": {
          "base_uri": "https://localhost:8080/"
        },
        "id": "9F_-Z6gkmhoH",
        "outputId": "e86d6e3e-3ee2-4038-87f1-47db42d15f1a"
      },
      "execution_count": null,
      "outputs": [
        {
          "output_type": "stream",
          "name": "stdout",
          "text": [
            "Result of tensor1 + tensor2:\n",
            "tensor([[10, 10, 10],\n",
            "        [10, 10, 10],\n",
            "        [10, 10, 10]])\n",
            "Result of torch.add(tensor1, tensor2):\n",
            "tensor([[10, 10, 10],\n",
            "        [10, 10, 10],\n",
            "        [10, 10, 10]])\n"
          ]
        }
      ]
    },
    {
      "cell_type": "code",
      "source": [
        "x1 = torch.rand(2, 3)\n",
        "x2 = torch.rand(2, 3)\n",
        "print(\"X1 (before)\", x1)\n",
        "print(\"X2 (before)\", x2)\n",
        "\n",
        "x2.add_(x1)\n",
        "print(\"X1 (after)\", x1)\n",
        "print(\"X2 (after)\", x2)"
      ],
      "metadata": {
        "colab": {
          "base_uri": "https://localhost:8080/"
        },
        "id": "wNhcc_fcnZV7",
        "outputId": "3b32f6c0-8b99-49a0-c8ee-421498f4557f"
      },
      "execution_count": null,
      "outputs": [
        {
          "output_type": "stream",
          "name": "stdout",
          "text": [
            "X1 (before) tensor([[0.6440, 0.7071, 0.6581],\n",
            "        [0.4913, 0.8913, 0.1447]])\n",
            "X2 (before) tensor([[0.5315, 0.1587, 0.6542],\n",
            "        [0.3278, 0.6532, 0.3958]])\n",
            "X1 (after) tensor([[0.6440, 0.7071, 0.6581],\n",
            "        [0.4913, 0.8913, 0.1447]])\n",
            "X2 (after) tensor([[1.1755, 0.8658, 1.3123],\n",
            "        [0.8191, 1.5445, 0.5406]])\n"
          ]
        }
      ]
    },
    {
      "cell_type": "markdown",
      "source": [
        "changing the shape of a tensor."
      ],
      "metadata": {
        "id": "_7_M_kDJoAo3"
      }
    },
    {
      "cell_type": "code",
      "source": [
        "x = torch.arange(6)\n",
        "print(\"X\", x)"
      ],
      "metadata": {
        "colab": {
          "base_uri": "https://localhost:8080/"
        },
        "id": "z889-bsunpYw",
        "outputId": "7a0ab442-973a-4694-9cb4-4fbb6d02bccd"
      },
      "execution_count": null,
      "outputs": [
        {
          "output_type": "stream",
          "name": "stdout",
          "text": [
            "X tensor([0, 1, 2, 3, 4, 5])\n"
          ]
        }
      ]
    },
    {
      "cell_type": "code",
      "source": [
        "x = x.view(2, 3)\n",
        "print(\"X\", x)"
      ],
      "metadata": {
        "colab": {
          "base_uri": "https://localhost:8080/"
        },
        "id": "2PHoXDXEnybZ",
        "outputId": "fd74fe3f-d4ea-4450-843f-5feb61c7c7c9"
      },
      "execution_count": null,
      "outputs": [
        {
          "output_type": "stream",
          "name": "stdout",
          "text": [
            "X tensor([[0, 1, 2],\n",
            "        [3, 4, 5]])\n"
          ]
        }
      ]
    },
    {
      "cell_type": "code",
      "source": [
        "x = x.permute(1, 0) # Swapping dimension 0 and 1\n",
        "print(\"X\", x)"
      ],
      "metadata": {
        "colab": {
          "base_uri": "https://localhost:8080/"
        },
        "id": "9nUv4A2goF_o",
        "outputId": "25ecc584-e76a-4f71-f049-2014af36b5f3"
      },
      "execution_count": null,
      "outputs": [
        {
          "output_type": "stream",
          "name": "stdout",
          "text": [
            "X tensor([[0, 3],\n",
            "        [1, 4],\n",
            "        [2, 5]])\n"
          ]
        }
      ]
    },
    {
      "cell_type": "code",
      "source": [
        "x = torch.arange(6)\n",
        "x = x.view(2, 3)\n",
        "print(\"X\", x)"
      ],
      "metadata": {
        "colab": {
          "base_uri": "https://localhost:8080/"
        },
        "id": "GRSVXAVkyDK6",
        "outputId": "51c017ad-17c1-49ff-e337-3e7ca2dbf282"
      },
      "execution_count": 7,
      "outputs": [
        {
          "output_type": "stream",
          "name": "stdout",
          "text": [
            "X tensor([[0, 1, 2],\n",
            "        [3, 4, 5]])\n"
          ]
        }
      ]
    },
    {
      "cell_type": "code",
      "source": [
        "x = torch.ones((3,))\n",
        "print(x.requires_grad)"
      ],
      "metadata": {
        "colab": {
          "base_uri": "https://localhost:8080/"
        },
        "id": "04qVH-XLygFj",
        "outputId": "0d4c3449-9be2-4422-c8fd-a95ea1d8b130"
      },
      "execution_count": 10,
      "outputs": [
        {
          "output_type": "stream",
          "name": "stdout",
          "text": [
            "False\n"
          ]
        }
      ]
    },
    {
      "cell_type": "code",
      "source": [
        "x.requires_grad_(True)\n",
        "print(x.requires_grad)"
      ],
      "metadata": {
        "colab": {
          "base_uri": "https://localhost:8080/"
        },
        "id": "qq3swzmWyotN",
        "outputId": "903e9ad0-60fc-4153-ea61-c3374c4cccdd"
      },
      "execution_count": 11,
      "outputs": [
        {
          "output_type": "stream",
          "name": "stdout",
          "text": [
            "True\n"
          ]
        }
      ]
    },
    {
      "cell_type": "markdown",
      "source": [
        "How to define and train a simple neural network in PyTorch"
      ],
      "metadata": {
        "id": "sG6jJr7ptzsy"
      }
    },
    {
      "cell_type": "code",
      "source": [
        "import torch\n",
        "import torch.nn as nn\n",
        "import torch.optim as optim\n",
        "\n",
        "# Define a simple neural network\n",
        "class SimpleNN(nn.Module):\n",
        "    def __init__(self):\n",
        "        super(SimpleNN, self).__init__()\n",
        "        self.fc1 = nn.Linear(784, 128)  # Fully connected layer 1\n",
        "        self.fc2 = nn.Linear(128, 64)   # Fully connected layer 2\n",
        "        self.fc3 = nn.Linear(64, 10)    # Output layer\n",
        "\n",
        "    def forward(self, x):\n",
        "        x = torch.relu(self.fc1(x))\n",
        "        x = torch.relu(self.fc2(x))\n",
        "        x = self.fc3(x)\n",
        "        return x\n",
        "\n",
        "# Create an instance of the neural network\n",
        "model = SimpleNN()\n",
        "\n",
        "# Define a loss function and optimizer\n",
        "criterion = nn.CrossEntropyLoss()\n",
        "optimizer = optim.SGD(model.parameters(), lr=0.01)\n",
        "\n",
        "# Dummy data for demonstration (normally you would use a dataset)\n",
        "inputs = torch.randn(64, 784)  # 64 samples, each with 784 features\n",
        "labels = torch.randint(0, 10, (64,))  # 64 labels, each a value between 0 and 9\n",
        "\n",
        "# Training loop\n",
        "for epoch in range(10):  # Number of epochs\n",
        "    optimizer.zero_grad()  # Zero the gradients\n",
        "    outputs = model(inputs)  # Forward pass\n",
        "    loss = criterion(outputs, labels)  # Compute loss\n",
        "    loss.backward()  # Backward pass\n",
        "    optimizer.step()  # Update weights\n",
        "\n",
        "    print(f'Epoch [{epoch+1}/10], Loss: {loss.item():.4f}')\n"
      ],
      "metadata": {
        "colab": {
          "base_uri": "https://localhost:8080/"
        },
        "id": "AthiapXQtoo1",
        "outputId": "80a3ecff-8115-4dd0-8160-38968252f278"
      },
      "execution_count": 3,
      "outputs": [
        {
          "output_type": "stream",
          "name": "stdout",
          "text": [
            "Epoch [1/10], Loss: 2.3120\n",
            "Epoch [2/10], Loss: 2.3082\n",
            "Epoch [3/10], Loss: 2.3045\n",
            "Epoch [4/10], Loss: 2.3009\n",
            "Epoch [5/10], Loss: 2.2972\n",
            "Epoch [6/10], Loss: 2.2936\n",
            "Epoch [7/10], Loss: 2.2900\n",
            "Epoch [8/10], Loss: 2.2864\n",
            "Epoch [9/10], Loss: 2.2829\n",
            "Epoch [10/10], Loss: 2.2794\n"
          ]
        }
      ]
    }
  ]
}